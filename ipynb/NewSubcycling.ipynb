{
 "cells": [
  {
   "cell_type": "markdown",
   "id": "add2b45b-1786-44cb-8b10-3c80206c7141",
   "metadata": {},
   "source": [
    "# New Subcycling"
   ]
  },
  {
   "cell_type": "code",
   "execution_count": 1,
   "id": "83241218-c776-42e7-bd99-3f752c3a1fd2",
   "metadata": {},
   "outputs": [
    {
     "name": "stderr",
     "output_type": "stream",
     "text": [
      "\u001b[36m\u001b[1m[ \u001b[22m\u001b[39m\u001b[36m\u001b[1mInfo: \u001b[22m\u001b[39mPrecompiling Infino [fb86a6d0-8469-4260-849d-6419c6b51222]\n"
     ]
    }
   ],
   "source": [
    "using Infino"
   ]
  },
  {
   "cell_type": "markdown",
   "id": "282d869c-f638-42fd-8b8f-3eabda223d53",
   "metadata": {},
   "source": [
    "## Runge Kutta's interpolant, termed dense output "
   ]
  },
  {
   "cell_type": "code",
   "execution_count": 10,
   "id": "42abcede-2a1f-4be1-bca9-6b8d17ea1592",
   "metadata": {},
   "outputs": [
    {
     "data": {
      "text/latex": [
       "$$ \\begin{equation}\n",
       "\\frac{k_1 \\left( -3 + 4 \\theta \\right) + k_2 \\left( 2 - 4 \\theta \\right) + k_3 \\left( 2 - 4 \\theta \\right) + k_4 \\left( -1 + 4 \\theta \\right)}{h^{2}}\n",
       "\\end{equation}\n",
       " $$"
      ],
      "text/plain": [
       "(k[1]*(-(3//1) + (4//1)*theta) + k[2]*(2 - (4//1)*theta) + k[3]*(2 - (4//1)*theta) + k[4]*(-(1//1) + (4//1)*theta)) / (h^2)"
      ]
     },
     "execution_count": 10,
     "metadata": {},
     "output_type": "execute_result"
    }
   ],
   "source": [
    "Infino.Symb.dy_symb(2)"
   ]
  },
  {
   "cell_type": "code",
   "execution_count": 11,
   "id": "a2d0dfbb-61ad-44c4-848d-9431392651bd",
   "metadata": {},
   "outputs": [
    {
     "data": {
      "text/plain": [
       "0.0"
      ]
     },
     "execution_count": 11,
     "metadata": {},
     "output_type": "execute_result"
    }
   ],
   "source": [
    "Infino.Symb.dy(2)(1.0, 1, [1, 1, 1, 1])"
   ]
  }
 ],
 "metadata": {
  "kernelspec": {
   "display_name": "Julia 1.9.4",
   "language": "julia",
   "name": "julia-1.9"
  },
  "language_info": {
   "file_extension": ".jl",
   "mimetype": "application/julia",
   "name": "julia",
   "version": "1.9.4"
  }
 },
 "nbformat": 4,
 "nbformat_minor": 5
}
