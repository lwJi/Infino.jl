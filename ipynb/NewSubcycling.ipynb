{
 "cells": [
  {
   "cell_type": "markdown",
   "id": "add2b45b-1786-44cb-8b10-3c80206c7141",
   "metadata": {
    "tags": []
   },
   "source": [
    "# New Subcycling"
   ]
  },
  {
   "cell_type": "markdown",
   "id": "282d869c-f638-42fd-8b8f-3eabda223d53",
   "metadata": {},
   "source": [
    "## Runge Kutta's interpolant, termed dense output "
   ]
  },
  {
   "cell_type": "code",
   "execution_count": 1,
   "id": "58971ed2-d773-4b0d-abbb-e131b1d91568",
   "metadata": {},
   "outputs": [
    {
     "data": {
      "text/plain": [
       "Main.DenseOutput"
      ]
     },
     "execution_count": 1,
     "metadata": {},
     "output_type": "execute_result"
    }
   ],
   "source": [
    "include(\"../symbolic/Symb.jl\")\n",
    "include(\"../src/DenseOutput.jl\")"
   ]
  },
  {
   "cell_type": "code",
   "execution_count": 2,
   "id": "42abcede-2a1f-4be1-bca9-6b8d17ea1592",
   "metadata": {},
   "outputs": [
    {
     "data": {
      "text/latex": [
       "$$ \\begin{equation}\n",
       "yn + k_1 \\left( \\theta - \\frac{3}{2} \\theta^{2} + \\frac{2}{3} \\theta^{3} \\right) + k_2 \\left( \\theta^{2} - \\frac{2}{3} \\theta^{3} \\right) + k_3 \\left( \\theta^{2} - \\frac{2}{3} \\theta^{3} \\right) + k_4 \\left(  - \\frac{1}{2} \\theta^{2} + \\frac{2}{3} \\theta^{3} \\right)\n",
       "\\end{equation}\n",
       " $$"
      ],
      "text/plain": [
       "yn + k[1]*(theta - (3//2)*(theta^2) + (2//3)*(theta^3)) + k[2]*(theta^2 - (2//3)*(theta^3)) + k[3]*(theta^2 - (2//3)*(theta^3)) + k[4]*(-(1//2)*(theta^2) + (2//3)*(theta^3))"
      ]
     },
     "execution_count": 2,
     "metadata": {},
     "output_type": "execute_result"
    }
   ],
   "source": [
    "Symb.y"
   ]
  },
  {
   "cell_type": "code",
   "execution_count": 3,
   "id": "9f218acc-b6b2-4d61-aef1-025ccb274047",
   "metadata": {},
   "outputs": [
    {
     "data": {
      "text/latex": [
       "$$ \\begin{equation}\n",
       "\\frac{k_1 \\left( -3 + 4 \\theta \\right) + k_2 \\left( 2 - 4 \\theta \\right) + k_3 \\left( 2 - 4 \\theta \\right) + k_4 \\left( -1 + 4 \\theta \\right)}{h^{2}}\n",
       "\\end{equation}\n",
       " $$"
      ],
      "text/plain": [
       "(k[1]*(-(3//1) + (4//1)*theta) + k[2]*(2 - (4//1)*theta) + k[3]*(2 - (4//1)*theta) + k[4]*(-(1//1) + (4//1)*theta)) / (h^2)"
      ]
     },
     "execution_count": 3,
     "metadata": {},
     "output_type": "execute_result"
    }
   ],
   "source": [
    "Symb.dy(2)"
   ]
  },
  {
   "cell_type": "code",
   "execution_count": 4,
   "id": "73af70c6-e94d-4f46-a174-61aa07dd311d",
   "metadata": {},
   "outputs": [
    {
     "data": {
      "text/plain": [
       "2.0"
      ]
     },
     "execution_count": 4,
     "metadata": {},
     "output_type": "execute_result"
    }
   ],
   "source": [
    "DenseOutput.y(1.0, 1, [1,1,1,1])"
   ]
  },
  {
   "cell_type": "code",
   "execution_count": 5,
   "id": "a2d0dfbb-61ad-44c4-848d-9431392651bd",
   "metadata": {},
   "outputs": [
    {
     "data": {
      "text/plain": [
       "0.0"
      ]
     },
     "execution_count": 5,
     "metadata": {},
     "output_type": "execute_result"
    }
   ],
   "source": [
    "DenseOutput.dy2(1.0, 1, [1, 1, 1, 1])"
   ]
  }
 ],
 "metadata": {
  "kernelspec": {
   "display_name": "Julia 1.9.4",
   "language": "julia",
   "name": "julia-1.9"
  },
  "language_info": {
   "file_extension": ".jl",
   "mimetype": "application/julia",
   "name": "julia",
   "version": "1.9.4"
  }
 },
 "nbformat": 4,
 "nbformat_minor": 5
}
